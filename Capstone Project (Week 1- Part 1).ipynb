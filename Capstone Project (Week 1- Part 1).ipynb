{
 "cells": [
  {
   "cell_type": "markdown",
   "metadata": {},
   "source": [
    "# IBM Data Science Course Capstone (Week 1 - Part 1)"
   ]
  },
  {
   "cell_type": "markdown",
   "metadata": {},
   "source": [
    "## Description of problem"
   ]
  },
  {
   "cell_type": "markdown",
   "metadata": {},
   "source": [
    "Tokyo, where I am currently staying, is the most populous metropolitan area in the world. Currently ranked 3rd in the global economic power index, Tokyo is definitely one of the best places to start up a new business.\n",
    "\n",
    "During the daytime, specially in the morning and lunch hours, office areas provide huge opportunities for restaurants. Reasonably priced (one lunch meal $ 8\\text{\\$} $) shops are usually always full during the lunch hours (11 am -- 2 pm) and, given this scenario, we will go through the benefits and pitfalls of opening a breakfast cum lunch restaurants in highly densed office places. Usually the profit margin for a decent restaurant lie within $15 - 20\\% $ range but, it can even go high enough to $35\\%$, as discussed <a href=\"https://www.ichefpos.com/en-sg/blog/japanese-restaurants-profits\">here</a>."
   ]
  },
  {
   "cell_type": "markdown",
   "metadata": {},
   "source": [
    "We will go through each step of this project and address them separately. For this week I just describe the initial data preparation and future steps to start the battle of neighborhoods in Tokyo.\n",
    "\n",
    "<font color=green> Obtain the Data </font> \n",
    "\n",
    "1.a. Name of the 23 Wards, area and population from web scrapping \n",
    "\n",
    "1.b. Obtain information about best business districts. \n",
    "\n",
    "1.c. Use Foresquare Data to obtain info about restaurants. \n",
    "\n",
    "<font color=green> Data Visualization and Some Simple Statistical Analysis. </font>\n",
    "\n",
    "<font color=green> Analysis Using Clustering, Specially K-Means Clustering. </font> \n",
    "\n",
    "3.a. Maximize the number of clusters. \n",
    "\n",
    "3.b. Visualization using Chloropleth Map \n",
    "\n",
    "<font color=green> Compare the Neighborhoods to Find the Best Place for Starting up a Restaurant. </font>\n",
    "<font color=green> Inference From these Results and related Conclusions. </font> \n",
    "\n",
    "#### Target Audience\n",
    "Business personnel who wants to invest or open a restaurant. This analysis will be a comprehensive guide to \n",
    "start or expand restaurants targeting the large pool of office workers in Tokyo during lunch hours.\n",
    "Freelancer who loves to have their own restaurant as a side business. This analysis will give an idea, how \n",
    "benificial it is to open a restaurant and what are the pros and cons of this business.\n",
    "New graduates, to find reasonable lunch/breakfast place close to office.\n",
    "Budding Data Scientists, who wants to implement some of the most used Exploratory Data Analysis techniques to \n",
    "obtain necessary data, analyze it and, finally be able to tell a story out of it."
   ]
  },
  {
   "cell_type": "code",
   "execution_count": null,
   "metadata": {},
   "outputs": [],
   "source": []
  }
 ],
 "metadata": {
  "kernelspec": {
   "display_name": "Python 3",
   "language": "python",
   "name": "python3"
  },
  "language_info": {
   "codemirror_mode": {
    "name": "ipython",
    "version": 3
   },
   "file_extension": ".py",
   "mimetype": "text/x-python",
   "name": "python",
   "nbconvert_exporter": "python",
   "pygments_lexer": "ipython3",
   "version": "3.6.5"
  }
 },
 "nbformat": 4,
 "nbformat_minor": 2
}
